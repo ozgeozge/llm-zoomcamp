{
 "cells": [
  {
   "cell_type": "markdown",
   "id": "9d894d8c-b70b-4535-b54b-9195231f0eaa",
   "metadata": {},
   "source": [
    "## Load documents with IDs"
   ]
  },
  {
   "cell_type": "code",
   "execution_count": 2,
   "id": "196843e8-929f-47f6-911c-b77043f88547",
   "metadata": {},
   "outputs": [],
   "source": [
    "import requests \n",
    "\n",
    "base_url = 'https://github.com/DataTalksClub/llm-zoomcamp/blob/main'\n",
    "relative_url = '03-vector-search/eval/documents-with-ids.json'\n",
    "docs_url = f'{base_url}/{relative_url}?raw=1'\n",
    "docs_response = requests.get(docs_url)\n",
    "documents = docs_response.json()"
   ]
  },
  {
   "cell_type": "code",
   "execution_count": 3,
   "id": "3b16c665-c5d9-40f7-b2d6-4d8f852d1f47",
   "metadata": {},
   "outputs": [
    {
     "data": {
      "text/plain": [
       "{'text': 'It depends on your background and previous experience with modules. It is expected to require about 5 - 15 hours per week. [source1] [source2]\\nYou can also calculate it yourself using this data and then update this answer.',\n",
       " 'section': 'General course-related questions',\n",
       " 'question': 'Course - \\u200b\\u200bHow many hours per week am I expected to spend on this  course?',\n",
       " 'course': 'data-engineering-zoomcamp',\n",
       " 'id': 'ea739c65'}"
      ]
     },
     "execution_count": 3,
     "metadata": {},
     "output_type": "execute_result"
    }
   ],
   "source": [
    "documents[10]"
   ]
  },
  {
   "cell_type": "markdown",
   "id": "f161021c-d084-45ab-9105-7b8d251558f8",
   "metadata": {},
   "source": [
    "## Load ground truth"
   ]
  },
  {
   "cell_type": "code",
   "execution_count": 4,
   "id": "686960bf-9d14-4638-9a2b-64e3fb1310d4",
   "metadata": {},
   "outputs": [],
   "source": [
    "import pandas as pd\n",
    "\n",
    "base_url = 'https://github.com/DataTalksClub/llm-zoomcamp/blob/main'\n",
    "relative_url = '03-vector-search/eval/ground-truth-data.csv'\n",
    "ground_truth_url = f'{base_url}/{relative_url}?raw=1'\n",
    "\n",
    "df_ground_truth = pd.read_csv(ground_truth_url)\n",
    "df_ground_truth = df_ground_truth[df_ground_truth.course == 'machine-learning-zoomcamp']\n",
    "ground_truth = df_ground_truth.to_dict(orient='records')"
   ]
  },
  {
   "cell_type": "code",
   "execution_count": 5,
   "id": "7cffe374-c8d3-47a6-b785-7dbe4e2c7446",
   "metadata": {},
   "outputs": [
    {
     "data": {
      "text/plain": [
       "{'question': 'Are sessions recorded if I miss one?',\n",
       " 'course': 'machine-learning-zoomcamp',\n",
       " 'document': '5170565b'}"
      ]
     },
     "execution_count": 5,
     "metadata": {},
     "output_type": "execute_result"
    }
   ],
   "source": [
    "ground_truth[10]"
   ]
  },
  {
   "cell_type": "code",
   "execution_count": 6,
   "id": "b84d2fd3-09cf-479c-aa00-cbe44a2aa96e",
   "metadata": {},
   "outputs": [
    {
     "data": {
      "text/plain": [
       "'Everything is recorded, so you won’t miss anything. You will be able to ask your questions for office hours in advance and we will cover them during the live stream. Also, you can always ask questions in Slack.'"
      ]
     },
     "execution_count": 6,
     "metadata": {},
     "output_type": "execute_result"
    }
   ],
   "source": [
    "doc_idx = {d['id']: d for d in documents}\n",
    "doc_idx['5170565b']['text']"
   ]
  },
  {
   "cell_type": "code",
   "execution_count": 7,
   "id": "4dcfada3-b78d-4faa-a9df-0bb1833450b5",
   "metadata": {},
   "outputs": [
    {
     "data": {
      "text/plain": [
       "'5170565b'"
      ]
     },
     "execution_count": 7,
     "metadata": {},
     "output_type": "execute_result"
    }
   ],
   "source": [
    "doc_idx['5170565b']['id']"
   ]
  },
  {
   "cell_type": "markdown",
   "id": "f97d441d-c2b7-4777-8df4-0199c1231a65",
   "metadata": {},
   "source": [
    "## Index data"
   ]
  },
  {
   "cell_type": "markdown",
   "id": "03f0bc39-1cfe-4742-b45f-6c055790cc78",
   "metadata": {},
   "source": [
    "```\n",
    "    docker run -it \\\n",
    "    --rm \\\n",
    "    --name elasticsearch \\\n",
    "    -m 4GB \\\n",
    "    -p 9200:9200 \\\n",
    "    -p 9300:9300 \\\n",
    "    -e \"discovery.type=single-node\" \\\n",
    "    -e \"xpack.security.enabled=false\" \\\n",
    "    docker.elastic.co/elasticsearch/elasticsearch:8.4.3\n",
    "```"
   ]
  },
  {
   "cell_type": "code",
   "execution_count": 8,
   "id": "407a47cc-7bad-4dbb-a130-69f539373688",
   "metadata": {},
   "outputs": [
    {
     "name": "stderr",
     "output_type": "stream",
     "text": [
      "/usr/local/python/3.10.13/lib/python3.10/site-packages/tqdm/auto.py:21: TqdmWarning: IProgress not found. Please update jupyter and ipywidgets. See https://ipywidgets.readthedocs.io/en/stable/user_install.html\n",
      "  from .autonotebook import tqdm as notebook_tqdm\n"
     ]
    }
   ],
   "source": [
    "from sentence_transformers import SentenceTransformer\n",
    "\n",
    "model_name = 'multi-qa-MiniLM-L6-cos-v1'\n",
    "model = SentenceTransformer(model_name)"
   ]
  },
  {
   "cell_type": "code",
   "execution_count": 9,
   "id": "a92349b6-275d-4981-abc3-7b67ea67cdd6",
   "metadata": {},
   "outputs": [
    {
     "data": {
      "text/plain": [
       "ObjectApiResponse({'acknowledged': True, 'shards_acknowledged': True, 'index': 'course-questions'})"
      ]
     },
     "execution_count": 9,
     "metadata": {},
     "output_type": "execute_result"
    }
   ],
   "source": [
    "from elasticsearch import Elasticsearch\n",
    "\n",
    "es_client = Elasticsearch('http://localhost:9200') \n",
    "\n",
    "index_settings = {\n",
    "    \"settings\": {\n",
    "        \"number_of_shards\": 1,\n",
    "        \"number_of_replicas\": 0\n",
    "    },\n",
    "    \"mappings\": {\n",
    "        \"properties\": {\n",
    "            \"text\": {\"type\": \"text\"},\n",
    "            \"section\": {\"type\": \"text\"},\n",
    "            \"question\": {\"type\": \"text\"},\n",
    "            \"course\": {\"type\": \"keyword\"},\n",
    "            \"id\": {\"type\": \"keyword\"},\n",
    "            \"question_text_vector\": {\n",
    "                \"type\": \"dense_vector\",\n",
    "                \"dims\": 384,\n",
    "                \"index\": True,\n",
    "                \"similarity\": \"cosine\"\n",
    "            },\n",
    "        }\n",
    "    }\n",
    "}\n",
    "\n",
    "index_name = \"course-questions\"\n",
    "\n",
    "es_client.indices.delete(index=index_name, ignore_unavailable=True)\n",
    "es_client.indices.create(index=index_name, body=index_settings)"
   ]
  },
  {
   "cell_type": "code",
   "execution_count": 10,
   "id": "41e6247a-baba-459d-965f-0b9c27103d4b",
   "metadata": {},
   "outputs": [
    {
     "name": "stderr",
     "output_type": "stream",
     "text": [
      "100%|████████████████████████████████████████████████████████████████████████████████████████████████████| 948/948 [01:20<00:00, 11.80it/s]\n"
     ]
    }
   ],
   "source": [
    "from tqdm.auto import tqdm\n",
    "\n",
    "for doc in tqdm(documents):\n",
    "    question = doc['question']\n",
    "    text = doc['text']\n",
    "    doc['question_text_vector'] = model.encode(question + ' ' + text)\n",
    "\n",
    "    es_client.index(index=index_name, document=doc)"
   ]
  },
  {
   "cell_type": "markdown",
   "id": "da3dc285-88e9-47be-b2d7-93923f26cdc9",
   "metadata": {},
   "source": [
    "## Retrieval"
   ]
  },
  {
   "cell_type": "code",
   "execution_count": 11,
   "id": "0e60e1c4-851c-4af7-a83c-fc38ad5e889d",
   "metadata": {},
   "outputs": [],
   "source": [
    "def elastic_search_knn(field, vector, course):\n",
    "    knn = {\n",
    "        \"field\": field,\n",
    "        \"query_vector\": vector,\n",
    "        \"k\": 5,\n",
    "        \"num_candidates\": 1000,\n",
    "        \"filter\": {\n",
    "            \"term\": {\n",
    "                \"course\": course\n",
    "            }\n",
    "        }\n",
    "    }\n",
    "\n",
    "    search_query = {\n",
    "        \"knn\": knn,\n",
    "        \"_source\": [\"text\", \"section\", \"question\", \"course\", \"id\"]\n",
    "    }\n",
    "\n",
    "    es_results = es_client.search(\n",
    "        index=index_name,\n",
    "        body=search_query\n",
    "    )\n",
    "    \n",
    "    result_docs = []\n",
    "    \n",
    "    for hit in es_results['hits']['hits']:\n",
    "        result_docs.append(hit['_source'])\n",
    "\n",
    "    return result_docs\n",
    "\n",
    "def question_text_vector_knn(q):\n",
    "    question = q['question']\n",
    "    course = q['course']\n",
    "\n",
    "    v_q = model.encode(question)\n",
    "\n",
    "    return elastic_search_knn('question_text_vector', v_q, course)"
   ]
  },
  {
   "cell_type": "code",
   "execution_count": 12,
   "id": "207b2632-058d-4ffe-841e-74c6e2aa8acb",
   "metadata": {},
   "outputs": [
    {
     "data": {
      "text/plain": [
       "[{'question': 'What if I miss a session?',\n",
       "  'course': 'machine-learning-zoomcamp',\n",
       "  'section': 'General course-related questions',\n",
       "  'text': 'Everything is recorded, so you won’t miss anything. You will be able to ask your questions for office hours in advance and we will cover them during the live stream. Also, you can always ask questions in Slack.',\n",
       "  'id': '5170565b'},\n",
       " {'question': 'Is it going to be live? When?',\n",
       "  'course': 'machine-learning-zoomcamp',\n",
       "  'section': 'General course-related questions',\n",
       "  'text': 'The course videos are pre-recorded, you can start watching the course right now.\\nWe will also occasionally have office hours - live sessions where we will answer your questions. The office hours sessions are recorded too.\\nYou can see the office hours as well as the pre-recorded course videos in the course playlist on YouTube.',\n",
       "  'id': '39fda9f0'},\n",
       " {'question': 'The same accuracy on epochs',\n",
       "  'course': 'machine-learning-zoomcamp',\n",
       "  'section': '8. Neural Networks and Deep Learning',\n",
       "  'text': \"Problem description\\nThe accuracy and the loss are both still the same or nearly the same while training.\\nSolution description\\nIn the homework, you should set class_mode='binary' while reading the data.\\nAlso, problem occurs when you choose the wrong optimizer, batch size, or learning rate\\nAdded by Ekaterina Kutovaia\",\n",
       "  'id': '7d11d5ce'},\n",
       " {'question': 'Useful Resource for Missing Data Treatment\\nhttps://www.kaggle.com/code/parulpandey/a-guide-to-handling-missing-values-in-python/notebook',\n",
       "  'course': 'machine-learning-zoomcamp',\n",
       "  'section': '2. Machine Learning for Regression',\n",
       "  'text': '(Hrithik Kumar Advani)',\n",
       "  'id': '81b8e8d0'},\n",
       " {'question': 'Will I get a certificate if I missed the midterm project?',\n",
       "  'course': 'machine-learning-zoomcamp',\n",
       "  'section': 'General course-related questions',\n",
       "  'text': \"Yes, it's possible. See the previous answer.\",\n",
       "  'id': '1d644223'}]"
      ]
     },
     "execution_count": 12,
     "metadata": {},
     "output_type": "execute_result"
    }
   ],
   "source": [
    "question_text_vector_knn(dict(\n",
    "    question='Are sessions recorded if I miss one?',\n",
    "    course='machine-learning-zoomcamp'\n",
    "))"
   ]
  },
  {
   "cell_type": "markdown",
   "id": "ab2b1eb5-ba6e-4b17-b074-048817c01f73",
   "metadata": {},
   "source": [
    "## The RAG flow"
   ]
  },
  {
   "cell_type": "markdown",
   "id": "d3309e8e-4f97-429a-acd5-bbc1f7ad4004",
   "metadata": {},
   "source": [
    "### mixtral-8x7b-32768 model"
   ]
  },
  {
   "cell_type": "code",
   "execution_count": 13,
   "id": "40281306-5528-4335-8aee-6100f864d5cb",
   "metadata": {},
   "outputs": [],
   "source": [
    "\n",
    "def build_prompt(query, search_results):\n",
    "    prompt_template = \"\"\"\n",
    "You're a course teaching assistant. Answer the QUESTION based on the CONTEXT from the FAQ database.\n",
    "Use only the facts from the CONTEXT when answering the QUESTION.\n",
    "\n",
    "QUESTION: {question}\n",
    "\n",
    "CONTEXT: \n",
    "{context}\n",
    "\"\"\".strip()\n",
    "\n",
    "    context = \"\"\n",
    "    \n",
    "    for doc in search_results:\n",
    "        context = context + f\"section: {doc['section']}\\nquestion: {doc['question']}\\nanswer: {doc['text']}\\n\\n\"\n",
    "    \n",
    "    prompt = prompt_template.format(question=query, context=context).strip()\n",
    "    return prompt"
   ]
  },
  {
   "cell_type": "code",
   "execution_count": 1,
   "id": "a0a656a3-6dfc-45ca-866c-37ce6a42552c",
   "metadata": {},
   "outputs": [],
   "source": [
    "import os\n",
    "from groq import Groq\n",
    "\n",
    "# Instantiation of Groq Client\n",
    "client = Groq(\n",
    "    api_key=os.environ.get(\"GROQ_API_KEY\")\n",
    ")"
   ]
  },
  {
   "cell_type": "code",
   "execution_count": 51,
   "id": "f4f29641-27b1-41bb-8029-3f2aea869250",
   "metadata": {},
   "outputs": [],
   "source": [
    "def llm(prompt, model_name=\"mixtral-8x7b-32768\"):\n",
    "    response = client.chat.completions.create(\n",
    "    messages=[\n",
    "        {\n",
    "           \"role\": \"user\", \"content\": prompt\n",
    "        }\n",
    "    ],\n",
    "    model=model_name,\n",
    "    )\n",
    "    return response.choices[0].message.content\n",
    "        "
   ]
  },
  {
   "cell_type": "code",
   "execution_count": 50,
   "id": "e1fd603a-0f69-4390-8abc-d4ada80f641f",
   "metadata": {},
   "outputs": [],
   "source": [
    "def rag(query: dict, model_name=\"mixtral-8x7b-32768\") -> str:\n",
    "    search_results = question_text_vector_knn(query)\n",
    "    prompt = build_prompt(query, search_results)\n",
    "    answer = llm(prompt, model_name = model_name)\n",
    "    return answer\n"
   ]
  },
  {
   "cell_type": "code",
   "execution_count": 16,
   "id": "07ee7892-bd83-4b72-a42d-f72d53eadbfb",
   "metadata": {},
   "outputs": [
    {
     "data": {
      "text/plain": [
       "{'question': 'Are sessions recorded if I miss one?',\n",
       " 'course': 'machine-learning-zoomcamp',\n",
       " 'document': '5170565b'}"
      ]
     },
     "execution_count": 16,
     "metadata": {},
     "output_type": "execute_result"
    }
   ],
   "source": [
    "ground_truth[10]"
   ]
  },
  {
   "cell_type": "code",
   "execution_count": 52,
   "id": "cab0cc3c-beba-428d-8c70-3c2c07df798e",
   "metadata": {},
   "outputs": [
    {
     "data": {
      "text/plain": [
       "\"Yes, sessions are recorded and you will be able to watch any session that you miss. This includes office hours as well as the pre-recorded course videos. If you miss a live session, you can still watch the recording and ask any questions you have in Slack. The specific issue of accuracy and loss being the same during training in the Neural Networks and Deep Learning section of the course is addressed by setting class\\\\_mode='binary' while reading the data and choosing the appropriate optimizer, batch size, or learning rate. A useful resource for missing data treatment can be found at <https://www.kaggle.com/code/parulpandey/a-guide-to-handling-missing-values-in-python/notebook>. Additionally, it is possible to still receive a certificate even if you miss the midterm project.\""
      ]
     },
     "execution_count": 52,
     "metadata": {},
     "output_type": "execute_result"
    }
   ],
   "source": [
    "rag(ground_truth[10])"
   ]
  },
  {
   "cell_type": "code",
   "execution_count": 18,
   "id": "67b35683-2dae-4b0b-8fbd-6b96daebfea7",
   "metadata": {},
   "outputs": [
    {
     "data": {
      "text/plain": [
       "'Everything is recorded, so you won’t miss anything. You will be able to ask your questions for office hours in advance and we will cover them during the live stream. Also, you can always ask questions in Slack.'"
      ]
     },
     "execution_count": 18,
     "metadata": {},
     "output_type": "execute_result"
    }
   ],
   "source": [
    "doc_idx['5170565b']['text']"
   ]
  },
  {
   "cell_type": "markdown",
   "id": "b2e0b8d8-6d53-4a53-b717-05b7ffc6d94d",
   "metadata": {},
   "source": [
    "## Cosine similarity metric"
   ]
  },
  {
   "cell_type": "code",
   "execution_count": 19,
   "id": "63171886-c3e5-49c3-beb4-66af7f7084b5",
   "metadata": {},
   "outputs": [
    {
     "data": {
      "text/plain": [
       "0.69527495"
      ]
     },
     "execution_count": 19,
     "metadata": {},
     "output_type": "execute_result"
    }
   ],
   "source": [
    "answer_llm = 'If you miss one session and are unable to attend or fully participate in that particular live streamed office hour (since these sessions can occasionally occur), rest assured that everything will be recorded anyway so no content is missed out on. You have been advised by this course teaching assistant not only to ask your questions beforehand for the upcoming office hours but also to feel free to pose them ahead of time in Slack or during designated session times as it suits you best, thus ensuring full participation and engagement with the course material regardless of attendance at any individual live-streamed event.'\n",
    "answer_orig = 'Everything is recorded, so you won’t miss anything. You will be able to ask your questions for office hours in advance and we will cover them during the live stream. Also, you can always ask questions in Slack.'\n",
    "\n",
    "v_llm = model.encode(answer_llm)\n",
    "v_orig = model.encode(answer_orig)\n",
    "\n",
    "v_llm.dot(v_orig)"
   ]
  },
  {
   "cell_type": "code",
   "execution_count": 20,
   "id": "a3d8813b-15fc-4fe7-87ee-e445ac322e10",
   "metadata": {},
   "outputs": [
    {
     "data": {
      "text/plain": [
       "{'question': 'Where can I sign up for the course?',\n",
       " 'course': 'machine-learning-zoomcamp',\n",
       " 'document': '0227b872'}"
      ]
     },
     "execution_count": 20,
     "metadata": {},
     "output_type": "execute_result"
    }
   ],
   "source": [
    "ground_truth[0]"
   ]
  },
  {
   "cell_type": "code",
   "execution_count": 21,
   "id": "de9eebc8-0e97-4215-b9a5-971a3854b211",
   "metadata": {},
   "outputs": [
    {
     "data": {
      "text/plain": [
       "1830"
      ]
     },
     "execution_count": 21,
     "metadata": {},
     "output_type": "execute_result"
    }
   ],
   "source": [
    "len(ground_truth)"
   ]
  },
  {
   "cell_type": "markdown",
   "id": "46100529-fbd4-4d6e-8e27-2f7d4f234e96",
   "metadata": {},
   "source": [
    "### Sampling"
   ]
  },
  {
   "cell_type": "markdown",
   "id": "b5813e83-b625-4d29-96ff-6608592c37b5",
   "metadata": {},
   "source": [
    "I sampled 50 instances from ground_truth dataset because of slow computation."
   ]
  },
  {
   "cell_type": "code",
   "execution_count": 28,
   "id": "a8d05560-b0da-46c5-b8c0-8c0a219e6b1c",
   "metadata": {},
   "outputs": [],
   "source": [
    "df_ground_truth = pd.DataFrame(ground_truth)\n",
    "\n",
    "df_ground_truth_sampled = df_ground_truth.sample(n=50, random_state=1)\n",
    "ground_truth_sampled = df_ground_truth_sampled.to_dict(orient='records')\n"
   ]
  },
  {
   "cell_type": "code",
   "execution_count": 29,
   "id": "a47a2859-ecc7-45cf-82ad-47b16af9f8f1",
   "metadata": {},
   "outputs": [],
   "source": [
    "answers = {}"
   ]
  },
  {
   "cell_type": "code",
   "execution_count": 30,
   "id": "0d9e33a2-f8f7-4030-aa95-12f8f9c572c7",
   "metadata": {},
   "outputs": [
    {
     "name": "stderr",
     "output_type": "stream",
     "text": [
      "100%|██████████████████████████████████████████████████████████████████████████████████████████████████████| 50/50 [10:28<00:00, 12.58s/it]\n"
     ]
    }
   ],
   "source": [
    "for i, rec in enumerate(tqdm(ground_truth_sampled)):\n",
    "    if i in answers:\n",
    "        continue\n",
    "\n",
    "    answer_llm = rag(rec)\n",
    "    doc_id = rec['document']\n",
    "    original_doc = doc_idx[doc_id]\n",
    "    answer_orig = original_doc['text']\n",
    "\n",
    "    answers[i] = {\n",
    "        'answer_llm': answer_llm,\n",
    "        'answer_orig': answer_orig,\n",
    "        'document': doc_id,\n",
    "        'question': rec['question'],\n",
    "        'course': rec['course'],\n",
    "    }"
   ]
  },
  {
   "cell_type": "code",
   "execution_count": 31,
   "id": "4f15b703-5f4d-4063-9f97-f0eb43a5e032",
   "metadata": {},
   "outputs": [],
   "source": [
    "results_mixtral = [None] * len(ground_truth_sampled)\n",
    "\n",
    "for i, val in answers.items():\n",
    "    results_mixtral[i] = val.copy()\n",
    "    results_mixtral[i].update(ground_truth_sampled[i])"
   ]
  },
  {
   "cell_type": "code",
   "execution_count": 32,
   "id": "a0be0fa2-787f-497a-94d6-670bee23a90b",
   "metadata": {},
   "outputs": [],
   "source": [
    "import pandas as pd\n"
   ]
  },
  {
   "cell_type": "code",
   "execution_count": 33,
   "id": "e1da560b-18e2-48c1-b71e-52d391ee767f",
   "metadata": {},
   "outputs": [],
   "source": [
    "df_mixtral = pd.DataFrame(results_mixtral)\n",
    "df_mixtral.to_csv('data/results-mixtral.csv', index=False)\n"
   ]
  },
  {
   "cell_type": "markdown",
   "id": "86885c75-b8f6-4b4d-9574-56499c16ab93",
   "metadata": {},
   "source": [
    "## Evaluating in parallel"
   ]
  },
  {
   "cell_type": "markdown",
   "id": "bac989b6-51e3-4068-b2f0-33ff4caac2f4",
   "metadata": {},
   "source": [
    "### llama3-8b-8192 model"
   ]
  },
  {
   "cell_type": "code",
   "execution_count": 61,
   "id": "c60d0d82-dffb-4c92-b5a4-05b901410e4b",
   "metadata": {},
   "outputs": [],
   "source": [
    "from tqdm.auto import tqdm\n",
    "from concurrent.futures import ThreadPoolExecutor\n",
    "\n",
    "# Increase max_workers. I had to set it to 1 because of the rate limit\n",
    "pool = ThreadPoolExecutor(max_workers=1)\n",
    "\n",
    "def map_progress(pool, seq, f):\n",
    "    results = []\n",
    "\n",
    "    with tqdm(total=len(seq)) as progress:\n",
    "        futures = []\n",
    "\n",
    "        for el in seq:\n",
    "            future = pool.submit(f, el)\n",
    "            future.add_done_callback(lambda p: progress.update())\n",
    "            futures.append(future)\n",
    "\n",
    "        for future in futures:\n",
    "            result = future.result()\n",
    "            results.append(result)\n",
    "\n",
    "    return results"
   ]
  },
  {
   "cell_type": "code",
   "execution_count": 58,
   "id": "d6d3cda5-4290-4959-b60a-e804696d767a",
   "metadata": {},
   "outputs": [],
   "source": [
    "def process_record(rec):\n",
    "    answer_llm = rag(rec, model_name=\"llama3-8b-8192\")\n",
    "    \n",
    "    doc_id = rec['document']\n",
    "    original_doc = doc_idx[doc_id]\n",
    "    answer_orig = original_doc['text']\n",
    "\n",
    "    return {\n",
    "        'answer_llm': answer_llm,\n",
    "        'answer_orig': answer_orig,\n",
    "        'document': doc_id,\n",
    "        'question': rec['question'],\n",
    "        'course': rec['course'],\n",
    "    }"
   ]
  },
  {
   "cell_type": "code",
   "execution_count": 59,
   "id": "f27c84ad-cd1d-4aa6-8a5f-cf2ae5f744d0",
   "metadata": {},
   "outputs": [
    {
     "data": {
      "text/plain": [
       "{'answer_llm': 'Based on the provided context, for the question \"What is the solution for the TensorFlow Serving error on Apple M1 Mac?\" the solution is:\\n\\nUse the emacski/tensorflow-serving:latest image with the flag -linux_arm64. For example:\\n\\n```\\ndocker run -it --rm \\\\\\n-p 8500:8500 \\\\\\n-v $(pwd)/clothing-model:/models/clothing-model/1 \\\\\\n-e MODEL_NAME=\"clothing-model\" \\\\\\nemacski/tensorflow-serving:latest-linux_arm64\\n```\\n\\nThe context also mentions a similar error on Mac M2 Apple Silicon, where the solution is to use the bitnami/tensorflow-serving:2 base image.\\n\\nNote: Please refer to the original document for more details and clarification.',\n",
       " 'answer_orig': 'While trying to run the docker code on M1:\\ndocker run --platform linux/amd64 -it --rm \\\\\\n-p 8500:8500 \\\\\\n-v $(pwd)/clothing-model:/models/clothing-model/1 \\\\\\n-e MODEL_NAME=\"clothing-model\" \\\\\\ntensorflow/serving:2.7.0\\nIt outputs the error:\\nError:\\nStatus: Downloaded newer image for tensorflow/serving:2.7.0\\n[libprotobuf FATAL external/com_google_protobuf/src/google/protobuf/generated_message_reflection.cc:2345] CHECK failed: file != nullptr:\\nterminate called after throwing an instance of \\'google::protobuf::FatalException\\'\\nwhat():  CHECK failed: file != nullptr:\\nqemu: uncaught target signal 6 (Aborted) - core dumped\\n/usr/bin/tf_serving_entrypoint.sh: line 3:     8 Aborted                 tensorflow_model_server --port=8500 --rest_api_port=8501 --model_name=${MODEL_NAME} --model_base_path=${MODEL_BASE_PATH}/${MODEL_NAME} \"$@\"\\nSolution\\ndocker pull emacski/tensorflow-serving:latest\\ndocker run -it --rm \\\\\\n-p 8500:8500 \\\\\\n-v $(pwd)/clothing-model:/models/clothing-model/1 \\\\\\n-e MODEL_NAME=\"clothing-model\" \\\\\\nemacski/tensorflow-serving:latest-linux_arm64\\nSee more here: https://github.com/emacski/tensorflow-serving-arm\\nAdded by Daniel Egbo',\n",
       " 'document': '5bda3b94',\n",
       " 'question': 'What is the solution for the TensorFlow Serving error on Apple M1 Mac?',\n",
       " 'course': 'machine-learning-zoomcamp'}"
      ]
     },
     "execution_count": 59,
     "metadata": {},
     "output_type": "execute_result"
    }
   ],
   "source": [
    "process_record(ground_truth_sampled[10])"
   ]
  },
  {
   "cell_type": "code",
   "execution_count": 60,
   "id": "e25d7dc4-46cf-4a79-ba91-5a7493101401",
   "metadata": {},
   "outputs": [
    {
     "name": "stderr",
     "output_type": "stream",
     "text": [
      "100%|██████████████████████████████████████████████████████████████████████████████████████████████████████| 50/50 [01:23<00:00,  1.68s/it]\n"
     ]
    }
   ],
   "source": [
    "results_llama = map_progress(pool, ground_truth_sampled, process_record)"
   ]
  },
  {
   "cell_type": "code",
   "execution_count": 68,
   "id": "d5f2f7d0-6464-4a09-9284-6a0722e839f3",
   "metadata": {},
   "outputs": [],
   "source": [
    "df_llama= pd.DataFrame(results_llama)\n",
    "df_llama.to_csv('data/results_llama.csv', index=False)"
   ]
  },
  {
   "cell_type": "markdown",
   "id": "4eb62b85-b965-4d20-a2fe-62d83916e124",
   "metadata": {},
   "source": [
    "## Cosine similarity"
   ]
  },
  {
   "cell_type": "markdown",
   "id": "3ce64d95-43ca-43d9-b2b9-810800a6339d",
   "metadata": {},
   "source": [
    "### mixtral"
   ]
  },
  {
   "cell_type": "code",
   "execution_count": 38,
   "id": "87b52c79-dc80-4317-9c27-7eca655d0aff",
   "metadata": {},
   "outputs": [],
   "source": [
    "results_mixtral = df_mixtral.to_dict(orient='records')\n",
    "record = results_mixtral[0]\n"
   ]
  },
  {
   "cell_type": "code",
   "execution_count": 39,
   "id": "4e49a1d4-9f22-44c7-bc81-d3e988ef2db7",
   "metadata": {},
   "outputs": [],
   "source": [
    "def compute_similarity(record):\n",
    "    answer_orig = record['answer_orig']\n",
    "    answer_llm = record['answer_llm']\n",
    "    \n",
    "    v_llm = model.encode(answer_llm)\n",
    "    v_orig = model.encode(answer_orig)\n",
    "    \n",
    "    return v_llm.dot(v_orig)"
   ]
  },
  {
   "cell_type": "code",
   "execution_count": 40,
   "id": "81723339-a2dd-4dea-8f7f-c072a517192f",
   "metadata": {},
   "outputs": [
    {
     "name": "stderr",
     "output_type": "stream",
     "text": [
      "100%|██████████████████████████████████████████████████████████████████████████████████████████████████████| 50/50 [00:05<00:00,  8.84it/s]\n"
     ]
    }
   ],
   "source": [
    "similarity = []\n",
    "\n",
    "for record in tqdm(results_mixtral):\n",
    "    sim = compute_similarity(record)\n",
    "    similarity.append(sim)"
   ]
  },
  {
   "cell_type": "code",
   "execution_count": 41,
   "id": "7655d323-42f1-49c7-9294-00b5ee9ab075",
   "metadata": {},
   "outputs": [
    {
     "data": {
      "text/plain": [
       "count    50.000000\n",
       "mean      0.645247\n",
       "std       0.184242\n",
       "min       0.105196\n",
       "25%       0.545477\n",
       "50%       0.695243\n",
       "75%       0.768279\n",
       "max       0.904874\n",
       "Name: cosine, dtype: float64"
      ]
     },
     "execution_count": 41,
     "metadata": {},
     "output_type": "execute_result"
    }
   ],
   "source": [
    "df_mixtral['cosine'] = similarity\n",
    "df_mixtral['cosine'].describe()"
   ]
  },
  {
   "cell_type": "markdown",
   "id": "a00c71dc-95ae-4787-b9fb-fdcad519c24a",
   "metadata": {},
   "source": [
    "### llama "
   ]
  },
  {
   "cell_type": "code",
   "execution_count": 69,
   "id": "65dadb6c-0e28-4b5a-9bf4-4abadfd648d5",
   "metadata": {},
   "outputs": [
    {
     "name": "stderr",
     "output_type": "stream",
     "text": [
      "100%|██████████████████████████████████████████████████████████████████████████████████████████████████████| 50/50 [00:04<00:00, 10.09it/s]\n"
     ]
    }
   ],
   "source": [
    "results_llama = df_llama.to_dict(orient='records')\n",
    "\n",
    "similarity_llama = []\n",
    "\n",
    "for record in tqdm(results_llama):\n",
    "    sim = compute_similarity(record)\n",
    "    similarity_llama.append(sim)"
   ]
  },
  {
   "cell_type": "code",
   "execution_count": 70,
   "id": "db607f97-3d2d-41a9-b05b-59c02c81519f",
   "metadata": {},
   "outputs": [
    {
     "data": {
      "text/plain": [
       "count    50.000000\n",
       "mean      0.642625\n",
       "std       0.205470\n",
       "min       0.062774\n",
       "25%       0.497982\n",
       "50%       0.686011\n",
       "75%       0.790700\n",
       "max       0.943315\n",
       "Name: cosine, dtype: float64"
      ]
     },
     "execution_count": 70,
     "metadata": {},
     "output_type": "execute_result"
    }
   ],
   "source": [
    "df_llama['cosine'] = similarity_llama\n",
    "df_llama['cosine'].describe()"
   ]
  },
  {
   "cell_type": "markdown",
   "id": "33daf306-de63-4071-b820-6fcb9194b08f",
   "metadata": {},
   "source": [
    "### Model performance comparison"
   ]
  },
  {
   "cell_type": "code",
   "execution_count": 44,
   "id": "ef415c2a-cb2f-437c-b6a4-6508e431f8f3",
   "metadata": {},
   "outputs": [],
   "source": [
    "import seaborn as sns\n",
    "import matplotlib.pyplot as plt\n"
   ]
  },
  {
   "cell_type": "code",
   "execution_count": 71,
   "id": "53f763c1-6b5e-44b9-ad34-549a98d57f5b",
   "metadata": {},
   "outputs": [
    {
     "name": "stderr",
     "output_type": "stream",
     "text": [
      "/tmp/ipykernel_23804/4000465224.py:1: UserWarning: \n",
      "\n",
      "`distplot` is a deprecated function and will be removed in seaborn v0.14.0.\n",
      "\n",
      "Please adapt your code to use either `displot` (a figure-level function with\n",
      "similar flexibility) or `histplot` (an axes-level function for histograms).\n",
      "\n",
      "For a guide to updating your code to use the new functions, please see\n",
      "https://gist.github.com/mwaskom/de44147ed2974457ad6372750bbe5751\n",
      "\n",
      "  sns.distplot(df_mixtral['cosine'], label='mixtral')\n",
      "/tmp/ipykernel_23804/4000465224.py:2: UserWarning: \n",
      "\n",
      "`distplot` is a deprecated function and will be removed in seaborn v0.14.0.\n",
      "\n",
      "Please adapt your code to use either `displot` (a figure-level function with\n",
      "similar flexibility) or `histplot` (an axes-level function for histograms).\n",
      "\n",
      "For a guide to updating your code to use the new functions, please see\n",
      "https://gist.github.com/mwaskom/de44147ed2974457ad6372750bbe5751\n",
      "\n",
      "  sns.distplot(df_llama['cosine'], label='llama')\n"
     ]
    },
    {
     "data": {
      "text/plain": [
       "<matplotlib.legend.Legend at 0x7aacd52b0fd0>"
      ]
     },
     "execution_count": 71,
     "metadata": {},
     "output_type": "execute_result"
    },
    {
     "data": {
      "image/png": "[encoded data removed]",
      "text/plain": [
       "<Figure size 640x480 with 1 Axes>"
      ]
     },
     "metadata": {},
     "output_type": "display_data"
    }
   ],
   "source": [
    "sns.distplot(df_mixtral['cosine'], label='mixtral')\n",
    "sns.distplot(df_llama['cosine'], label='llama')\n",
    "\n",
    "plt.title(\"RAG LLM performance\")\n",
    "plt.xlabel(\"A->Q->A' Cosine Similarity\")\n",
    "plt.legend()"
   ]
  },
  {
   "cell_type": "markdown",
   "id": "f117b72f-1306-499a-9691-c6043c85eecc",
   "metadata": {},
   "source": [
    "## LLM as a judge"
   ]
  },
  {
   "cell_type": "code",
   "execution_count": 73,
   "id": "cd8487bc-dea9-441a-973e-f67ef5ac97f3",
   "metadata": {},
   "outputs": [],
   "source": [
    "prompt1_template = \"\"\"\n",
    "You are an expert evaluator for a Retrieval-Augmented Generation (RAG) system.\n",
    "Your task is to analyze the relevance of the generated answer compared to the original answer provided.\n",
    "Based on the relevance and similarity of the generated answer to the original answer, you will classify\n",
    "it as \"NON_RELEVANT\", \"PARTLY_RELEVANT\", or \"RELEVANT\".\n",
    "\n",
    "Here is the data for evaluation:\n",
    "\n",
    "Original Answer: {answer_orig}\n",
    "Generated Question: {question}\n",
    "Generated Answer: {answer_llm}\n",
    "\n",
    "Please analyze the content and context of the generated answer in relation to the original\n",
    "answer and provide your evaluation in parsable JSON without using code blocks:\n",
    "\n",
    "{{\n",
    "  \"Relevance\": \"NON_RELEVANT\" | \"PARTLY_RELEVANT\" | \"RELEVANT\",\n",
    "  \"Explanation\": \"[Provide a brief explanation for your evaluation]\"\n",
    "}}\n",
    "\"\"\".strip()\n",
    "\n",
    "prompt2_template = \"\"\"\n",
    "You are an expert evaluator for a Retrieval-Augmented Generation (RAG) system.\n",
    "Your task is to analyze the relevance of the generated answer to the given question.\n",
    "Based on the relevance of the generated answer, you will classify it\n",
    "as \"NON_RELEVANT\", \"PARTLY_RELEVANT\", or \"RELEVANT\".\n",
    "\n",
    "Here is the data for evaluation:\n",
    "\n",
    "Question: {question}\n",
    "Generated Answer: {answer_llm}\n",
    "\n",
    "Please analyze the content and context of the generated answer in relation to the question\n",
    "and provide your evaluation in parsable JSON without using code blocks:\n",
    "\n",
    "{{\n",
    "  \"Relevance\": \"NON_RELEVANT\" | \"PARTLY_RELEVANT\" | \"RELEVANT\",\n",
    "  \"Explanation\": \"[Provide a brief explanation for your evaluation]\"\n",
    "}}\n",
    "\"\"\".strip()"
   ]
  },
  {
   "cell_type": "code",
   "execution_count": 77,
   "id": "cd72d684-f7fd-4065-bd97-425b3f7e260a",
   "metadata": {},
   "outputs": [
    {
     "data": {
      "text/plain": [
       "{'answer_llm': \"The main reason for different accuracy values in the context of the provided document is the way of splitting data into train, validation, and test sets. Specifically, the order and method of splitting the data can result in slightly different subsets of data, leading to differences in accuracy values. When evaluating feature elimination, it is recommended to calculate the smallest difference in accuracy in absolute values, not in real values. Additionally, when comparing accuracy scores, it is recommended to take the smallest absolute difference, since the order of subtraction can result in a negative number. The actual values predicted by a neural network should be treated as a likelihood of falling into a class, with some small changes expected. The choice between using ROC curves or Precision-Recall curves depends on the balance of observations between each class. ROC curves are appropriate for balanced datasets, while Precision-Recall curves are better suited for imbalanced datasets, as they present a more accurate picture of the model's performance.\",\n",
       " 'answer_orig': 'One main reason behind that, is the way of splitting data. For example, we want to split data into train/validation/test with the ratios 60%/20%/20% respectively.\\nAlthough the following two options end up with the same ratio, the data itself is a bit different and not 100% matching in each case.\\n1)\\ndf_train, df_temp = train_test_split(df, test_size=0.4, random_state=42)\\ndf_val, df_test = train_test_split(df_temp, test_size=0.5, random_state=42)\\n2)\\ndf_full_train, df_test = train_test_split(df, test_size=0.2, random_state=42)\\ndf_train, df_val = train_test_split(df_full_train, test_size=0.25, random_state=42)\\nTherefore, I would recommend using the second method which is more consistent with the lessons and thus the homeworks.\\nIbraheem Taha',\n",
       " 'document': '25481ce5',\n",
       " 'question': 'What is one main reason for different accuracy values?',\n",
       " 'course': 'machine-learning-zoomcamp'}"
      ]
     },
     "execution_count": 77,
     "metadata": {},
     "output_type": "execute_result"
    }
   ],
   "source": [
    "record = results_mixtral[7]\n",
    "record"
   ]
  },
  {
   "cell_type": "code",
   "execution_count": 78,
   "id": "fd1da268-c5ad-452c-8256-1c9bcc797c78",
   "metadata": {},
   "outputs": [
    {
     "name": "stdout",
     "output_type": "stream",
     "text": [
      "You are an expert evaluator for a Retrieval-Augmented Generation (RAG) system.\n",
      "Your task is to analyze the relevance of the generated answer compared to the original answer provided.\n",
      "Based on the relevance and similarity of the generated answer to the original answer, you will classify\n",
      "it as \"NON_RELEVANT\", \"PARTLY_RELEVANT\", or \"RELEVANT\".\n",
      "\n",
      "Here is the data for evaluation:\n",
      "\n",
      "Original Answer: One main reason behind that, is the way of splitting data. For example, we want to split data into train/validation/test with the ratios 60%/20%/20% respectively.\n",
      "Although the following two options end up with the same ratio, the data itself is a bit different and not 100% matching in each case.\n",
      "1)\n",
      "df_train, df_temp = train_test_split(df, test_size=0.4, random_state=42)\n",
      "df_val, df_test = train_test_split(df_temp, test_size=0.5, random_state=42)\n",
      "2)\n",
      "df_full_train, df_test = train_test_split(df, test_size=0.2, random_state=42)\n",
      "df_train, df_val = train_test_split(df_full_train, test_size=0.25, random_state=42)\n",
      "Therefore, I would recommend using the second method which is more consistent with the lessons and thus the homeworks.\n",
      "Ibraheem Taha\n",
      "Generated Question: What is one main reason for different accuracy values?\n",
      "Generated Answer: The main reason for different accuracy values in the context of the provided document is the way of splitting data into train, validation, and test sets. Specifically, the order and method of splitting the data can result in slightly different subsets of data, leading to differences in accuracy values. When evaluating feature elimination, it is recommended to calculate the smallest difference in accuracy in absolute values, not in real values. Additionally, when comparing accuracy scores, it is recommended to take the smallest absolute difference, since the order of subtraction can result in a negative number. The actual values predicted by a neural network should be treated as a likelihood of falling into a class, with some small changes expected. The choice between using ROC curves or Precision-Recall curves depends on the balance of observations between each class. ROC curves are appropriate for balanced datasets, while Precision-Recall curves are better suited for imbalanced datasets, as they present a more accurate picture of the model's performance.\n",
      "\n",
      "Please analyze the content and context of the generated answer in relation to the original\n",
      "answer and provide your evaluation in parsable JSON without using code blocks:\n",
      "\n",
      "{\n",
      "  \"Relevance\": \"NON_RELEVANT\" | \"PARTLY_RELEVANT\" | \"RELEVANT\",\n",
      "  \"Explanation\": \"[Provide a brief explanation for your evaluation]\"\n",
      "}\n"
     ]
    }
   ],
   "source": [
    "prompt = prompt1_template.format(**record)\n",
    "print(prompt)"
   ]
  },
  {
   "cell_type": "code",
   "execution_count": 79,
   "id": "c0fbafed-ca03-4d5d-9ebe-f9b6959b727e",
   "metadata": {},
   "outputs": [],
   "source": [
    "answer = llm(prompt)"
   ]
  },
  {
   "cell_type": "code",
   "execution_count": 84,
   "id": "d4e2a032-8b55-4939-ac50-383b299cbebd",
   "metadata": {},
   "outputs": [
    {
     "data": {
      "text/plain": [
       "'{\\n  \"Relevance\": \"PARTLY_RELEVANT\",\\n  \"Explanation\": \"The generated answer discusses the impact of data splitting on accuracy values, which is related to the original answer. However, it elaborates on additional aspects not mentioned in the original answer, such as the order of splitting, the recommendation to calculate the smallest difference in absolute values, and the choice between ROC and Precision-Recall curves. While these topics are related to machine learning, they deviate from the specific issue in the original answer regarding the consistency of different splitting methods.\"\\n}'"
      ]
     },
     "execution_count": 84,
     "metadata": {},
     "output_type": "execute_result"
    }
   ],
   "source": [
    "answer"
   ]
  },
  {
   "cell_type": "code",
   "execution_count": 85,
   "id": "191ccedb-a4b3-4f97-a298-19de98ddf501",
   "metadata": {},
   "outputs": [
    {
     "data": {
      "text/plain": [
       "{'Relevance': 'PARTLY_RELEVANT',\n",
       " 'Explanation': 'The generated answer discusses the impact of data splitting on accuracy values, which is related to the original answer. However, it elaborates on additional aspects not mentioned in the original answer, such as the order of splitting, the recommendation to calculate the smallest difference in absolute values, and the choice between ROC and Precision-Recall curves. While these topics are related to machine learning, they deviate from the specific issue in the original answer regarding the consistency of different splitting methods.'}"
      ]
     },
     "execution_count": 85,
     "metadata": {},
     "output_type": "execute_result"
    }
   ],
   "source": [
    "import json\n",
    "json.loads(answer)"
   ]
  },
  {
   "cell_type": "code",
   "execution_count": 81,
   "id": "06e0a0c7-9d81-4eed-936d-db6217d3ac30",
   "metadata": {},
   "outputs": [
    {
     "name": "stderr",
     "output_type": "stream",
     "text": [
      "100%|██████████████████████████████████████████████████████████████████████████████████████████████████████| 50/50 [05:18<00:00,  6.37s/it]\n"
     ]
    }
   ],
   "source": [
    "evaluations = []\n",
    "\n",
    "for record in tqdm(results_mixtral):\n",
    "    prompt = prompt1_template.format(**record)\n",
    "    evaluation = llm(prompt)\n",
    "    evaluations.append(evaluation)"
   ]
  },
  {
   "cell_type": "code",
   "execution_count": 90,
   "id": "c7680b86-ff64-4b5f-b718-b8cfe552bf7d",
   "metadata": {},
   "outputs": [
    {
     "data": {
      "text/plain": [
       "'{\\n  \"Relevance\": \"RELEVANT\",\\n  \"Explanation\": \"The generated answer addresses the user\\'s concern about losing the REMOTE\\\\_URI variable after the session ends by providing steps to manually set the variable again in the terminal. These steps are consistent with the original answer, ensuring that the user can continue to use the URI address for logging in to the registry.\"\\n}'"
      ]
     },
     "execution_count": 90,
     "metadata": {},
     "output_type": "execute_result"
    }
   ],
   "source": [
    "evaluations[8]"
   ]
  },
  {
   "cell_type": "code",
   "execution_count": 99,
   "id": "d3cec74f-0318-4544-84e8-ccff82e3b8f6",
   "metadata": {},
   "outputs": [
    {
     "data": {
      "text/plain": [
       "8"
      ]
     },
     "execution_count": 99,
     "metadata": {},
     "output_type": "execute_result"
    }
   ],
   "source": [
    "i"
   ]
  },
  {
   "cell_type": "code",
   "execution_count": 104,
   "id": "dad6e9bb-9bc9-415f-b050-52512507cafd",
   "metadata": {},
   "outputs": [],
   "source": [
    "evaluations[8]= '{\\n  \"Relevance\": \"RELEVANT\",\\n  \"Explanation\": \"The generated answer addresses the user s concern about losing the REMOTE URI variable after the session ends by providing steps to manually set the variable again in the terminal. These steps are consistent with the original answer, ensuring that the user can continue to use the URI address for logging in to the registry.\"\\n}'"
   ]
  },
  {
   "cell_type": "code",
   "execution_count": 107,
   "id": "f4c91cd4-3fcd-4793-9876-b93d68f53ccc",
   "metadata": {},
   "outputs": [],
   "source": [
    "json_evaluations = []\n",
    "\n",
    "for i, str_eval in enumerate(evaluations):\n",
    "    json_eval = json.loads(str_eval)\n",
    "    json_evaluations.append(json_eval)"
   ]
  },
  {
   "cell_type": "code",
   "execution_count": 108,
   "id": "aa6f0503-5bda-4741-b21b-0fbc3174dc23",
   "metadata": {},
   "outputs": [],
   "source": [
    "df_evaluations = pd.DataFrame(json_evaluations)\n"
   ]
  },
  {
   "cell_type": "code",
   "execution_count": 109,
   "id": "e882a0a2-667a-433e-9bbc-a90625629120",
   "metadata": {},
   "outputs": [
    {
     "data": {
      "text/plain": [
       "Relevance\n",
       "RELEVANT           30\n",
       "PARTLY_RELEVANT    16\n",
       "NON_RELEVANT        4\n",
       "Name: count, dtype: int64"
      ]
     },
     "execution_count": 109,
     "metadata": {},
     "output_type": "execute_result"
    }
   ],
   "source": [
    "df_evaluations.Relevance.value_counts()\n"
   ]
  },
  {
   "cell_type": "code",
   "execution_count": 110,
   "id": "af930961-17b8-4037-94a3-bd9849502f65",
   "metadata": {},
   "outputs": [
    {
     "data": {
      "text/html": [
       "<div>\n",
       "<style scoped>\n",
       "    .dataframe tbody tr th:only-of-type {\n",
       "        vertical-align: middle;\n",
       "    }\n",
       "\n",
       "    .dataframe tbody tr th {\n",
       "        vertical-align: top;\n",
       "    }\n",
       "\n",
       "    .dataframe thead th {\n",
       "        text-align: right;\n",
       "    }\n",
       "</style>\n",
       "<table border=\"1\" class=\"dataframe\">\n",
       "  <thead>\n",
       "    <tr style=\"text-align: right;\">\n",
       "      <th></th>\n",
       "      <th>Relevance</th>\n",
       "      <th>Explanation</th>\n",
       "    </tr>\n",
       "  </thead>\n",
       "  <tbody>\n",
       "    <tr>\n",
       "      <th>4</th>\n",
       "      <td>NON_RELEVANT</td>\n",
       "      <td>The generated answer discusses a version confl...</td>\n",
       "    </tr>\n",
       "    <tr>\n",
       "      <th>10</th>\n",
       "      <td>NON_RELEVANT</td>\n",
       "      <td>The generated answer suggests using the bitnam...</td>\n",
       "    </tr>\n",
       "    <tr>\n",
       "      <th>11</th>\n",
       "      <td>NON_RELEVANT</td>\n",
       "      <td>The generated answer does not address the issu...</td>\n",
       "    </tr>\n",
       "    <tr>\n",
       "      <th>27</th>\n",
       "      <td>NON_RELEVANT</td>\n",
       "      <td>The generated answer does not provide any info...</td>\n",
       "    </tr>\n",
       "  </tbody>\n",
       "</table>\n",
       "</div>"
      ],
      "text/plain": [
       "       Relevance                                        Explanation\n",
       "4   NON_RELEVANT  The generated answer discusses a version confl...\n",
       "10  NON_RELEVANT  The generated answer suggests using the bitnam...\n",
       "11  NON_RELEVANT  The generated answer does not address the issu...\n",
       "27  NON_RELEVANT  The generated answer does not provide any info..."
      ]
     },
     "execution_count": 110,
     "metadata": {},
     "output_type": "execute_result"
    }
   ],
   "source": [
    "df_evaluations[df_evaluations.Relevance == 'NON_RELEVANT'] #.to_dict(orient='records')\n"
   ]
  },
  {
   "cell_type": "code",
   "execution_count": 111,
   "id": "fd356227-9598-4117-83f9-28e91eb5b3e1",
   "metadata": {},
   "outputs": [
    {
     "data": {
      "text/plain": [
       "{'answer_llm': 'The cause of the pip version error in this week\\'s serverless deep learning section is likely a version conflict in Scikit-Learn. When creating a virtual environment, it is important to use the same version of Scikit-Learn that was used for training the model. In this case, the error was encountered when the training was done using Scikit-Learn version 1.1.1, but the virtual environment had a different version. The solution is to ensure that the model and other files are created using the same version of Scikit-Learn that is being used for the project by running \"pipenv install scikit-learn==1.1.1\".',\n",
       " 'answer_orig': 'When running docker build -t dino-dragon-model it returns the above error\\nThe most common source of this error in this week is because Alex video shows a version of the wheel with python 8, we need to find a wheel with the version that we are working on. In this case python 9. Another common error is to copy the link, this will also produce the same error, we need to download the raw format:\\nhttps://github.com/alexeygrigorev/tflite-aws-lambda/raw/main/tflite/tflite_runtime-2.7.0-cp39-cp39-linux_x86_64.whl\\nPastor Soto',\n",
       " 'document': '42c09143',\n",
       " 'question': \"What might be the cause of the pip version error in this week's serverless deep learning section?\",\n",
       " 'course': 'machine-learning-zoomcamp'}"
      ]
     },
     "execution_count": 111,
     "metadata": {},
     "output_type": "execute_result"
    }
   ],
   "source": [
    "results_mixtral[4]"
   ]
  },
  {
   "cell_type": "code",
   "execution_count": 112,
   "id": "26dbc591-a3d0-4e0b-8dd3-a4eb31eb1b69",
   "metadata": {},
   "outputs": [
    {
     "name": "stdout",
     "output_type": "stream",
     "text": [
      "You are an expert evaluator for a Retrieval-Augmented Generation (RAG) system.\n",
      "Your task is to analyze the relevance of the generated answer to the given question.\n",
      "Based on the relevance of the generated answer, you will classify it\n",
      "as \"NON_RELEVANT\", \"PARTLY_RELEVANT\", or \"RELEVANT\".\n",
      "\n",
      "Here is the data for evaluation:\n",
      "\n",
      "Question: Do you have a YouTube video covering Evaluation Metrics for Classification?\n",
      "Generated Answer: Based on the provided context, there is no information about a YouTube video covering Evaluation Metrics for Classification in the 'machine-learning-zoomcamp' course. However, I can provide you with the ways to get classification metrics using scikit-learn, as well as a method to create a beautiful classification report using Yellowbrick.\n",
      "\n",
      "To get classification metrics using scikit-learn, you can use the following off-the-shelf functions available in the scikit-learn library:\n",
      "\n",
      "```python\n",
      "from sklearn.metrics import (accuracy_score,\n",
      "                               precision_score,\n",
      "                               recall_score,\n",
      "                               f1_score,\n",
      "                               roc_auc_score\n",
      "                              )\n",
      "\n",
      "accuracy = accuracy_score(y_val, y_pred)\n",
      "precision = precision_score(y_val, y_pred)\n",
      "recall = recall_score(y_val, y_pred)\n",
      "f1 = f1_score(y_val, y_pred)\n",
      "roc_auc = roc_auc_score(y_val, y_pred)\n",
      "\n",
      "print(f'Accuracy: {accuracy}')\n",
      "print(f'Precision: {precision}')\n",
      "print(f'Recall: {recall}')\n",
      "print(f'F1-Score: {f1}')\n",
      "print(f'ROC AUC: {roc_auc}')\n",
      "```\n",
      "\n",
      "To create a colorful classification report, you can use the Yellowbrick library, which combines scikit-learn with matplotlib to produce visualizations for your models:\n",
      "\n",
      "```python\n",
      "from yellowbrick.classifier import ClassificationReport\n",
      "\n",
      "visualizer = ClassificationReport(model, classes=['class1', 'class2'])\n",
      "visualizer.fit(X_train, y_train)  # Fit the training data to the visualizer\n",
      "visualizer.score(X_val, y_val)  # Evaluate the model on the test data\n",
      "visualizer.show()  # Display the visualization\n",
      "```\n",
      "\n",
      "These two methods can be helpful in evaluating and visualizing the performance of your machine learning classification models within the 'machine-learning-zoomcamp' course.\n",
      "\n",
      "Please analyze the content and context of the generated answer in relation to the question\n",
      "and provide your evaluation in parsable JSON without using code blocks:\n",
      "\n",
      "{\n",
      "  \"Relevance\": \"NON_RELEVANT\" | \"PARTLY_RELEVANT\" | \"RELEVANT\",\n",
      "  \"Explanation\": \"[Provide a brief explanation for your evaluation]\"\n",
      "}\n"
     ]
    }
   ],
   "source": [
    "prompt = prompt2_template.format(**record)\n",
    "print(prompt)"
   ]
  },
  {
   "cell_type": "code",
   "execution_count": 113,
   "id": "381c3a2e-bb3a-44e1-b856-f0e1625b40eb",
   "metadata": {},
   "outputs": [
    {
     "name": "stdout",
     "output_type": "stream",
     "text": [
      "{\n",
      "  \"Relevance\": \"PARTLY_RELEVANT\",\n",
      "  \"Explanation\": \"The generated answer does not directly address the question about a YouTube video covering Evaluation Metrics for Classification in the 'machine-learning-zoomcamp' course. However, it does provide relevant information on how to get classification metrics using scikit-learn and create a classification report using Yellowbrick, which could be considered partly relevant to the topic of evaluation metrics.\"\n",
      "}\n"
     ]
    }
   ],
   "source": [
    "evaluation = llm(prompt)\n",
    "print(evaluation)"
   ]
  },
  {
   "cell_type": "code",
   "execution_count": 114,
   "id": "0edee37b-1f75-4adb-9d91-82b0d157266c",
   "metadata": {},
   "outputs": [
    {
     "name": "stderr",
     "output_type": "stream",
     "text": [
      "100%|██████████████████████████████████████████████████████████████████████████████████████████████████████| 50/50 [03:38<00:00,  4.37s/it]\n"
     ]
    }
   ],
   "source": [
    "evaluations_2 = []\n",
    "\n",
    "for record in tqdm(results_mixtral):\n",
    "    prompt = prompt2_template.format(**record)\n",
    "    evaluation = llm(prompt)\n",
    "    evaluations_2.append(evaluation)"
   ]
  },
  {
   "cell_type": "code",
   "execution_count": 115,
   "id": "a26208dc-cb8a-4c76-af43-54521b46d851",
   "metadata": {},
   "outputs": [],
   "source": [
    "json_evaluations_2 = []\n",
    "\n",
    "for i, str_eval in enumerate(evaluations_2):\n",
    "    json_eval = json.loads(str_eval)\n",
    "    json_evaluations_2.append(json_eval)"
   ]
  },
  {
   "cell_type": "code",
   "execution_count": 116,
   "id": "375423a4-8bea-4bd6-984e-7ae5d1c127f3",
   "metadata": {},
   "outputs": [
    {
     "data": {
      "text/html": [
       "<div>\n",
       "<style scoped>\n",
       "    .dataframe tbody tr th:only-of-type {\n",
       "        vertical-align: middle;\n",
       "    }\n",
       "\n",
       "    .dataframe tbody tr th {\n",
       "        vertical-align: top;\n",
       "    }\n",
       "\n",
       "    .dataframe thead th {\n",
       "        text-align: right;\n",
       "    }\n",
       "</style>\n",
       "<table border=\"1\" class=\"dataframe\">\n",
       "  <thead>\n",
       "    <tr style=\"text-align: right;\">\n",
       "      <th></th>\n",
       "      <th>Relevance</th>\n",
       "      <th>Explanation</th>\n",
       "    </tr>\n",
       "  </thead>\n",
       "  <tbody>\n",
       "    <tr>\n",
       "      <th>11</th>\n",
       "      <td>NON_RELEVANT</td>\n",
       "      <td>The generated answer does not address the ques...</td>\n",
       "    </tr>\n",
       "    <tr>\n",
       "      <th>27</th>\n",
       "      <td>NON_RELEVANT</td>\n",
       "      <td>The generated answer does not provide any info...</td>\n",
       "    </tr>\n",
       "  </tbody>\n",
       "</table>\n",
       "</div>"
      ],
      "text/plain": [
       "       Relevance                                        Explanation\n",
       "11  NON_RELEVANT  The generated answer does not address the ques...\n",
       "27  NON_RELEVANT  The generated answer does not provide any info..."
      ]
     },
     "execution_count": 116,
     "metadata": {},
     "output_type": "execute_result"
    }
   ],
   "source": [
    "df_evaluations_2 = pd.DataFrame(json_evaluations_2)\n",
    "df_evaluations_2[df_evaluations_2.Relevance == 'NON_RELEVANT']\n"
   ]
  },
  {
   "cell_type": "code",
   "execution_count": 117,
   "id": "384a3767-c4c1-46b0-9ee9-d6d4dedb2a52",
   "metadata": {},
   "outputs": [
    {
     "data": {
      "text/plain": [
       "Relevance\n",
       "RELEVANT           41\n",
       "PARTLY_RELEVANT     7\n",
       "NON_RELEVANT        2\n",
       "Name: count, dtype: int64"
      ]
     },
     "execution_count": 117,
     "metadata": {},
     "output_type": "execute_result"
    }
   ],
   "source": [
    "df_evaluations_2.Relevance.value_counts()\n"
   ]
  },
  {
   "cell_type": "code",
   "execution_count": 118,
   "id": "b05b0baf-71a4-4352-a754-a77e40bda900",
   "metadata": {},
   "outputs": [
    {
     "data": {
      "text/plain": [
       "{'answer_llm': 'The question asks about resolving a `NotSupportedError` in section 5 of the machine learning course. However, the context provided does not contain any information related to this error in that section. Instead, there are answers related to other errors in different sections.\\n\\nOne of the answers relates to a `TypeError: Descriptors cannot not be created directly` error in section 10.3. The solution provided is to downgrade the protobuf package to version 3.20.1 using pipenv. You can try running the following command:\\n\\n```bash\\npipenv install protobuf==3.20.1\\n```\\n\\nIf you are not using pipenv, you can try downgrading the protobuf package using pip instead:\\n\\n```bash\\npip install protobuf==3.20.1\\n```\\n\\nIf you encounter a permission error when using pip, you can try using the `--user` option:\\n\\n```bash\\npip --user install protobuf==3.20.1\\n```\\n\\nNote that this solution is not specific to section 5 or the `NotSupportedError`, but it may still help resolve the issue. If it does not work, you may need to provide more context or search for a solution specific to the `NotSupportedError` and section 5.',\n",
       " 'answer_orig': 'Question:\\nWhen executing\\neb local run  --port 9696\\nI get the following error:\\nERROR: NotSupportedError - You can use \"eb local\" only with preconfigured, generic and multicontainer Docker platforms.\\nAnswer:\\nThere are two options to fix this:\\nRe-initialize by running eb init -i and choosing the options from a list (the first default option for docker platform should be fine).\\nEdit the ‘.elasticbeanstalk/config.yml’ directly changing the default_platform from Docker to default_platform: Docker running on 64bit Amazon Linux 2023\\nThe disadvantage of the second approach is that the option might not be available the following years\\nAdded by Alex Litvinov',\n",
       " 'document': 'd04e77f8',\n",
       " 'question': 'What steps can I take to resolve the NotSupportedError in section 5?',\n",
       " 'course': 'machine-learning-zoomcamp'}"
      ]
     },
     "execution_count": 118,
     "metadata": {},
     "output_type": "execute_result"
    }
   ],
   "source": [
    "results_mixtral[11]"
   ]
  },
  {
   "cell_type": "markdown",
   "id": "26b40fdf-63d7-4120-a54a-1d19c51a4dc5",
   "metadata": {},
   "source": [
    "## Saving all data"
   ]
  },
  {
   "cell_type": "code",
   "execution_count": 72,
   "id": "84f0159a-cc22-4b38-97a7-1495f629b4d0",
   "metadata": {},
   "outputs": [],
   "source": [
    "df_mixtral.to_csv('data/results-mixtral-cosine.csv', index=False)\n",
    "df_llama.to_csv('data/results-llama-cosine.csv', index=False)\n"
   ]
  },
  {
   "cell_type": "code",
   "execution_count": 119,
   "id": "81469cf8-537a-4f5b-9c10-86c561b1e700",
   "metadata": {},
   "outputs": [],
   "source": [
    "df_evaluations.to_csv('data/evaluations-aqa.csv', index=False)\n",
    "df_evaluations_2.to_csv('data/evaluations-qa.csv', index=False)"
   ]
  },
  {
   "cell_type": "code",
   "execution_count": null,
   "id": "fbcc5373-7aca-44cc-8c52-751cb2b4da21",
   "metadata": {},
   "outputs": [],
   "source": []
  }
 ],
 "metadata": {
  "kernelspec": {
   "display_name": "Python 3 (ipykernel)",
   "language": "python",
   "name": "python3"
  },
  "language_info": {
   "codemirror_mode": {
    "name": "ipython",
    "version": 3
   },
   "file_extension": ".py",
   "mimetype": "text/x-python",
   "name": "python",
   "nbconvert_exporter": "python",
   "pygments_lexer": "ipython3",
   "version": "3.10.13"
  }
 },
 "nbformat": 4,
 "nbformat_minor": 5
}
